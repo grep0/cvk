{
 "cells": [
  {
   "cell_type": "code",
   "execution_count": 1,
   "metadata": {
    "collapsed": false
   },
   "outputs": [],
   "source": [
    "import lxml.html\n",
    "import lxml.etree"
   ]
  },
  {
   "cell_type": "code",
   "execution_count": 2,
   "metadata": {
    "collapsed": true
   },
   "outputs": [],
   "source": [
    "import numpy as np\n",
    "import matplotlib.pyplot as plt"
   ]
  },
  {
   "cell_type": "code",
   "execution_count": 3,
   "metadata": {
    "collapsed": false
   },
   "outputs": [],
   "source": [
    "def parse_file(filename):\n",
    "    doc=lxml.html.parse(filename)\n",
    "    table=doc.findall('//table')[0]\n",
    "    rows=table.findall('./tr')\n",
    "    num_rows=len(rows)\n",
    "    data=np.zeros((num_rows,1+10+39), dtype=np.int64)\n",
    "    for i,row in enumerate(rows):\n",
    "        data[i,0]=int(row.xpath('./td/b')[0].text)\n",
    "        data[i,1:]=[int(x.text) for x in row.xpath('./td')[1:-1]]\n",
    "    return data"
   ]
  },
  {
   "cell_type": "code",
   "execution_count": 4,
   "metadata": {
    "collapsed": false
   },
   "outputs": [
    {
     "name": "stdout",
     "output_type": "stream",
     "text": [
      "Done region 11\n",
      "Done region 12\n",
      "Done region 13\n",
      "Done region 14\n",
      "Done region 15\n",
      "Done region 16\n",
      "Done region 17\n",
      "Done region 18\n",
      "Done region 19\n",
      "Done region 20\n",
      "Done region 21\n",
      "Done region 22\n",
      "Done region 23\n",
      "Done region 24\n",
      "Done region 25\n",
      "Done region 26\n",
      "Done region 27\n",
      "Done region 28\n",
      "Done region 29\n",
      "Done region 30\n",
      "Done region 31\n",
      "Done region 32\n",
      "Done region 33\n",
      "Done region 34\n",
      "Done region 35\n",
      "Done region 36\n",
      "Done region 37\n",
      "Done region 38\n",
      "Done region 39\n",
      "Done region 40\n",
      "Skipping region 41\n",
      "Skipping region 42\n",
      "Skipping region 43\n",
      "Skipping region 44\n",
      "Done region 45\n",
      "Done region 46\n",
      "Done region 47\n",
      "Done region 48\n",
      "Done region 49\n",
      "Done region 50\n",
      "Done region 51\n",
      "Done region 52\n",
      "Skipping region 53\n",
      "Skipping region 54\n",
      "Skipping region 55\n",
      "Skipping region 56\n",
      "Done region 57\n",
      "Done region 58\n",
      "Done region 59\n",
      "Done region 60\n",
      "Skipping region 61\n",
      "Done region 62\n",
      "Done region 63\n",
      "Done region 64\n",
      "Done region 65\n",
      "Done region 66\n",
      "Done region 67\n",
      "Done region 68\n",
      "Done region 69\n",
      "Done region 70\n",
      "Done region 71\n",
      "Done region 72\n",
      "Done region 73\n",
      "Done region 74\n",
      "Done region 75\n",
      "Done region 76\n",
      "Done region 77\n",
      "Done region 78\n",
      "Done region 79\n",
      "Done region 80\n",
      "Done region 81\n",
      "Done region 82\n",
      "Done region 83\n",
      "Done region 84\n",
      "Done region 85\n",
      "Done region 86\n",
      "Done region 87\n",
      "Done region 88\n",
      "Done region 89\n",
      "Done region 90\n",
      "Done region 91\n",
      "Done region 92\n",
      "Done region 93\n",
      "Done region 94\n",
      "Done region 95\n",
      "Done region 96\n",
      "Done region 97\n",
      "Done region 98\n",
      "Done region 99\n",
      "Done region 100\n",
      "Done region 101\n",
      "Done region 102\n",
      "Done region 103\n",
      "Skipping region 104\n",
      "Done region 105\n",
      "Done region 106\n",
      "Done region 107\n",
      "Skipping region 108\n",
      "Skipping region 109\n",
      "Skipping region 110\n",
      "Skipping region 111\n",
      "Done region 112\n",
      "Done region 113\n",
      "Done region 114\n",
      "Done region 115\n",
      "Done region 116\n",
      "Done region 117\n",
      "Done region 118\n",
      "Done region 119\n",
      "Done region 120\n",
      "Done region 121\n",
      "Done region 122\n",
      "Done region 123\n",
      "Done region 124\n",
      "Done region 125\n",
      "Done region 126\n",
      "Done region 127\n",
      "Done region 128\n",
      "Done region 129\n",
      "Done region 130\n",
      "Done region 131\n",
      "Done region 132\n",
      "Done region 133\n",
      "Done region 134\n",
      "Done region 135\n",
      "Done region 136\n",
      "Done region 137\n",
      "Done region 138\n",
      "Done region 139\n",
      "Done region 140\n",
      "Done region 141\n",
      "Done region 142\n",
      "Done region 143\n",
      "Done region 144\n",
      "Done region 145\n",
      "Done region 146\n",
      "Done region 147\n",
      "Done region 148\n",
      "Done region 149\n",
      "Done region 150\n",
      "Done region 151\n",
      "Done region 152\n",
      "Done region 153\n",
      "Done region 154\n",
      "Done region 155\n",
      "Done region 156\n",
      "Done region 157\n",
      "Done region 158\n",
      "Done region 159\n",
      "Done region 160\n",
      "Skipping region 161\n",
      "Done region 162\n",
      "Done region 163\n",
      "Done region 164\n",
      "Done region 165\n",
      "Done region 166\n",
      "Done region 167\n",
      "Done region 168\n",
      "Done region 169\n",
      "Done region 170\n",
      "Done region 171\n",
      "Done region 172\n",
      "Done region 173\n",
      "Done region 174\n",
      "Done region 175\n",
      "Done region 176\n",
      "Done region 177\n",
      "Done region 178\n",
      "Done region 179\n",
      "Done region 180\n",
      "Done region 181\n",
      "Done region 182\n",
      "Done region 183\n",
      "Done region 184\n",
      "Done region 185\n",
      "Done region 186\n",
      "Done region 187\n",
      "Done region 188\n",
      "Done region 189\n",
      "Done region 190\n",
      "Done region 191\n",
      "Done region 192\n",
      "Done region 193\n",
      "Done region 194\n",
      "Done region 195\n",
      "Done region 196\n",
      "Done region 197\n",
      "Done region 198\n",
      "Done region 199\n",
      "Done region 200\n",
      "Done region 201\n",
      "Done region 202\n",
      "Done region 203\n",
      "Done region 204\n",
      "Done region 205\n",
      "Done region 206\n",
      "Done region 207\n",
      "Done region 208\n",
      "Done region 209\n",
      "Done region 210\n",
      "Done region 211\n",
      "Done region 212\n",
      "Done region 213\n",
      "Done region 214\n",
      "Done region 215\n",
      "Done region 216\n",
      "Done region 217\n",
      "Done region 218\n",
      "Done region 219\n",
      "Done region 220\n",
      "Done region 221\n",
      "Done region 222\n",
      "Done region 223\n",
      "Skipping region 224\n",
      "Skipping region 225\n",
      "Done region 226\n"
     ]
    }
   ],
   "source": [
    "regions=[]\n",
    "for i in range(11,227):\n",
    "    try:\n",
    "        region = parse_file('raw/{}.html'.format(i))\n",
    "        print (\"Done region\", i)\n",
    "    except:\n",
    "        print (\"Skipping region\", i)\n",
    "    regions.append(region)\n",
    "all_data=np.concatenate(regions)"
   ]
  },
  {
   "cell_type": "markdown",
   "metadata": {},
   "source": [
    "Raw verification"
   ]
  },
  {
   "cell_type": "code",
   "execution_count": 21,
   "metadata": {
    "collapsed": false
   },
   "outputs": [
    {
     "name": "stdout",
     "output_type": "stream",
     "text": [
      "(30554, 50)\n"
     ]
    },
    {
     "data": {
      "text/plain": [
       "array([31365465, 30920991,   700787, 11935372, 18823882,   606472,\n",
       "       19430380,     3109, 19429308,   231536,    33735,    27863,\n",
       "          34995,    19451,  2354016,    23125,     6087,   844660,\n",
       "           5942,  1316269,     4746,    19688,     9939,  5896750,\n",
       "          15756,    16080,     6060,     4549,   307278,     9130,\n",
       "           4729,    20768,  1035247,    13776,    43577,     2694,\n",
       "           5694,     3309,    16136,  3091630,     5683,    15399,\n",
       "        1156328,     5453,    20195,  2554899,   118885,    18819,   108130])"
      ]
     },
     "execution_count": 21,
     "metadata": {},
     "output_type": "execute_result"
    }
   ],
   "source": [
    "print(all_data.shape)\n",
    "np.sum(all_data[:,1:], axis=0)"
   ]
  },
  {
   "cell_type": "markdown",
   "metadata": {},
   "source": [
    "There are a few cells without voters; filter them out"
   ]
  },
  {
   "cell_type": "code",
   "execution_count": 13,
   "metadata": {
    "collapsed": false
   },
   "outputs": [
    {
     "name": "stdout",
     "output_type": "stream",
     "text": [
      "30552\n"
     ]
    },
    {
     "data": {
      "text/plain": [
       "array([31365465, 30920991,   700787, 11935372, 18823882,   606472,\n",
       "       19430380,     3109, 19429308,   231536,    33735,    27863,\n",
       "          34995,    19451,  2354016,    23125,     6087,   844660,\n",
       "           5942,  1316269,     4746,    19688,     9939,  5896750,\n",
       "          15756,    16080,     6060,     4549,   307278,     9130,\n",
       "           4729,    20768,  1035247,    13776,    43577,     2694,\n",
       "           5694,     3309,    16136,  3091630,     5683,    15399,\n",
       "        1156328,     5453,    20195,  2554899,   118885,    18819,   108130])"
      ]
     },
     "execution_count": 13,
     "metadata": {},
     "output_type": "execute_result"
    }
   ],
   "source": [
    "have_votes=np.where(all_data[:,9]>0)\n",
    "print (len(have_votes[0]))\n"
   ]
  },
  {
   "cell_type": "code",
   "execution_count": 14,
   "metadata": {
    "collapsed": false
   },
   "outputs": [],
   "source": [
    "VOTED=all_data[have_votes,9].flatten()\n",
    "Z=all_data[have_votes,24].flatten()\n",
    "P=all_data[have_votes,40].flatten()\n",
    "T=all_data[have_votes,46].flatten()"
   ]
  },
  {
   "cell_type": "code",
   "execution_count": 15,
   "metadata": {
    "collapsed": false
   },
   "outputs": [
    {
     "data": {
      "image/png": "[encoded data removed]",
      "text/plain": [
       "<matplotlib.figure.Figure at 0x7fb9f7cef240>"
      ]
     },
     "metadata": {},
     "output_type": "display_data"
    }
   ],
   "source": [
    "plt.figure(figsize=(12, 8))\n",
    "plt.hist([Z/VOTED, P/VOTED, T/VOTED], bins=100, range=(0,1),\n",
    "         color=['g','b','r'], label=['Z','P','T'],\n",
    "        );"
   ]
  },
  {
   "cell_type": "markdown",
   "metadata": {},
   "source": [
    "Looks like beta distribution, let's fit"
   ]
  },
  {
   "cell_type": "code",
   "execution_count": 16,
   "metadata": {
    "collapsed": false
   },
   "outputs": [],
   "source": [
    "from scipy.stats import beta"
   ]
  },
  {
   "cell_type": "code",
   "execution_count": 17,
   "metadata": {
    "collapsed": true
   },
   "outputs": [],
   "source": [
    "def make_beta(d):\n",
    "    a,b = beta.fit(np.extract(np.logical_and(0<d, d<1), d), floc=0,fscale=1)[:2]\n",
    "    return a,b"
   ]
  },
  {
   "cell_type": "code",
   "execution_count": 22,
   "metadata": {
    "collapsed": false
   },
   "outputs": [
    {
     "name": "stdout",
     "output_type": "stream",
     "text": [
      "3.39102451888 9.02577698457 0.273099680134\n",
      "2.28390713861 11.9786810518 0.160132726833\n",
      "2.53652398444 13.4294501713 0.158870605683\n"
     ]
    }
   ],
   "source": [
    "aZ,bZ=make_beta(Z/VOTED)\n",
    "print(aZ,bZ, aZ/(aZ+bZ))\n",
    "aP,bP=make_beta(P/VOTED)\n",
    "print(aP,bP, aP/(aP+bP))\n",
    "aT,bT=make_beta(T/VOTED)\n",
    "print(aT,bT, aT/(aT+bT))"
   ]
  },
  {
   "cell_type": "code",
   "execution_count": 19,
   "metadata": {
    "collapsed": false
   },
   "outputs": [
    {
     "data": {
      "image/png": "[encoded data removed]",
      "text/plain": [
       "<matplotlib.figure.Figure at 0x7fb9ec861908>"
      ]
     },
     "metadata": {},
     "output_type": "display_data"
    }
   ],
   "source": [
    "xs=np.arange(0,1,0.01)\n",
    "plt.figure(figsize=(12, 8))\n",
    "plt.hist([Z/VOTED, P/VOTED, T/VOTED], bins=100, range=(0,1), normed=True,\n",
    "         color=['g','b','r'], label=['Z','P','T'],\n",
    "        )\n",
    "plt.plot(xs, beta.pdf(xs,aZ,bZ), 'g',\n",
    "         xs, beta.pdf(xs,aP,bP), 'b',\n",
    "         xs, beta.pdf(xs,aT,bT), 'r');"
   ]
  },
  {
   "cell_type": "code",
   "execution_count": null,
   "metadata": {
    "collapsed": true
   },
   "outputs": [],
   "source": []
  }
 ],
 "metadata": {
  "kernelspec": {
   "display_name": "Python 3",
   "language": "python",
   "name": "python3"
  },
  "language_info": {
   "codemirror_mode": {
    "name": "ipython",
    "version": 3
   },
   "file_extension": ".py",
   "mimetype": "text/x-python",
   "name": "python",
   "nbconvert_exporter": "python",
   "pygments_lexer": "ipython3",
   "version": "3.6.5"
  }
 },
 "nbformat": 4,
 "nbformat_minor": 2
}
