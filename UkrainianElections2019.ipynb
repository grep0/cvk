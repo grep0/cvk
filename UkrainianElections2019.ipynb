{
 "cells": [
  {
   "cell_type": "code",
   "execution_count": 1,
   "metadata": {
    "collapsed": false
   },
   "outputs": [],
   "source": [
    "import lxml.html\n",
    "import lxml.etree"
   ]
  },
  {
   "cell_type": "code",
   "execution_count": 2,
   "metadata": {
    "collapsed": true
   },
   "outputs": [],
   "source": [
    "import numpy as np\n",
    "import matplotlib.pyplot as plt"
   ]
  },
  {
   "cell_type": "code",
   "execution_count": 3,
   "metadata": {
    "collapsed": false
   },
   "outputs": [],
   "source": [
    "def parse_file(filename):\n",
    "    doc=lxml.html.parse(filename)\n",
    "    table=doc.findall('//table')[0]\n",
    "    rows=table.findall('./tr')\n",
    "    num_rows=len(rows)\n",
    "    data=np.zeros((num_rows,1+10+39), dtype=np.int64)\n",
    "    for i,row in enumerate(rows):\n",
    "        data[i,0]=int(row.xpath('./td/b')[0].text)\n",
    "        data[i,1:]=[int(x.text) for x in row.xpath('./td')[1:-1]]\n",
    "    return data"
   ]
  },
  {
   "cell_type": "code",
   "execution_count": 4,
   "metadata": {
    "collapsed": false
   },
   "outputs": [
    {
     "data": {
      "text/plain": [
       "array([[50130,  1704,  1686, ...,    11,     1,     3],\n",
       "       [50131,  2148,  2109, ...,    19,     0,     9],\n",
       "       [50134,   222,   225, ...,     0,     1,     0],\n",
       "       ..., \n",
       "       [51671,   342,    64, ...,     3,     0,     0],\n",
       "       [51672,   156,    57, ...,     1,     1,     0],\n",
       "       [51675,   318,   336, ...,     0,     0,     0]])"
      ]
     },
     "execution_count": 4,
     "metadata": {},
     "output_type": "execute_result"
    }
   ],
   "source": [
    "parse_file('raw/11.html')"
   ]
  },
  {
   "cell_type": "code",
   "execution_count": 5,
   "metadata": {
    "collapsed": false
   },
   "outputs": [
    {
     "name": "stdout",
     "output_type": "stream",
     "text": [
      "Skipping region 41\n",
      "Skipping region 42\n",
      "Skipping region 43\n",
      "Skipping region 44\n",
      "Skipping region 53\n",
      "Skipping region 54\n",
      "Skipping region 55\n",
      "Skipping region 56\n",
      "Skipping region 61\n",
      "Skipping region 104\n",
      "Skipping region 108\n",
      "Skipping region 109\n",
      "Skipping region 110\n",
      "Skipping region 111\n",
      "Skipping region 224\n",
      "Skipping region 225\n",
      "Skipping region 227\n",
      "Skipping region 228\n",
      "Skipping region 229\n",
      "Skipping region 230\n",
      "Skipping region 231\n",
      "Skipping region 232\n",
      "Skipping region 233\n",
      "Skipping region 234\n",
      "Skipping region 235\n",
      "Skipping region 236\n",
      "Skipping region 237\n",
      "Skipping region 238\n",
      "Skipping region 239\n",
      "Skipping region 240\n",
      "Skipping region 241\n",
      "Skipping region 242\n",
      "Skipping region 243\n",
      "Skipping region 244\n",
      "Skipping region 245\n",
      "Skipping region 246\n",
      "Skipping region 247\n",
      "Skipping region 248\n",
      "Skipping region 249\n",
      "Skipping region 250\n",
      "Skipping region 251\n",
      "Skipping region 252\n",
      "Skipping region 253\n",
      "Skipping region 254\n",
      "Skipping region 255\n",
      "Skipping region 256\n",
      "Skipping region 257\n",
      "Skipping region 258\n",
      "Skipping region 259\n",
      "Skipping region 260\n",
      "Skipping region 261\n",
      "Skipping region 262\n",
      "Skipping region 263\n",
      "Skipping region 264\n",
      "Skipping region 265\n"
     ]
    }
   ],
   "source": [
    "all_data=np.zeros((0,1+10+39), dtype=np.int64)\n",
    "for i in range(11,266):\n",
    "    try:\n",
    "        region = parse_file('raw/{}.html'.format(i))\n",
    "    except:\n",
    "        print (\"Skipping region\", i)\n",
    "    all_data=np.concatenate((all_data,region))"
   ]
  },
  {
   "cell_type": "code",
   "execution_count": 6,
   "metadata": {
    "collapsed": false
   },
   "outputs": [
    {
     "data": {
      "text/plain": [
       "(34352, 50)"
      ]
     },
     "execution_count": 6,
     "metadata": {},
     "output_type": "execute_result"
    }
   ],
   "source": [
    "all_data.shape"
   ]
  },
  {
   "cell_type": "code",
   "execution_count": 7,
   "metadata": {
    "collapsed": true
   },
   "outputs": [],
   "source": [
    "TOTAL=all_data[:,9]\n",
    "Z=all_data[:,24]\n",
    "P=all_data[:,40]\n",
    "T=all_data[:,46]"
   ]
  },
  {
   "cell_type": "code",
   "execution_count": 8,
   "metadata": {
    "collapsed": false
   },
   "outputs": [
    {
     "data": {
      "text/plain": [
       "array([47089519, 47044197,   702892, 25732037, 20748915,   608751,\n",
       "       21357693,     3094, 21356448,   242408,    40946,    34061,\n",
       "          38726,    20712,  2408849,    24125,     6243,   876266,\n",
       "           6117,  1527905,     5242,    21213,    10444,  6382526,\n",
       "          15983,    16896,     6521,     4951,   402429,     9997,\n",
       "           5230,    21576,  1043879,    14642,    45959,     2946,\n",
       "           6616,     3841,    17506,  3870843,     6132,    16123,\n",
       "        1284328,     5694,    21130,  2633829,   120412,    19849,   113060])"
      ]
     },
     "execution_count": 8,
     "metadata": {},
     "output_type": "execute_result"
    }
   ],
   "source": [
    "np.sum(all_data[:,1:], axis=0)"
   ]
  },
  {
   "cell_type": "code",
   "execution_count": 17,
   "metadata": {
    "collapsed": false
   },
   "outputs": [
    {
     "name": "stderr",
     "output_type": "stream",
     "text": [
      "/usr/lib/python3/dist-packages/ipykernel_launcher.py:1: RuntimeWarning: invalid value encountered in true_divide\n",
      "  \"\"\"Entry point for launching an IPython kernel.\n",
      "/usr/lib/python3/dist-packages/numpy/lib/function_base.py:748: RuntimeWarning: invalid value encountered in greater_equal\n",
      "  keep = (tmp_a >= mn)\n",
      "/usr/lib/python3/dist-packages/numpy/lib/function_base.py:749: RuntimeWarning: invalid value encountered in less_equal\n",
      "  keep &= (tmp_a <= mx)\n",
      "/usr/lib/python3/dist-packages/ipykernel_launcher.py:2: RuntimeWarning: invalid value encountered in true_divide\n",
      "  \n",
      "/usr/lib/python3/dist-packages/ipykernel_launcher.py:3: RuntimeWarning: invalid value encountered in true_divide\n",
      "  This is separate from the ipykernel package so we can avoid doing imports until\n"
     ]
    },
    {
     "data": {
      "image/png": "[encoded data removed]",
      "text/plain": [
       "<matplotlib.figure.Figure at 0x7f730fdb4c50>"
      ]
     },
     "metadata": {},
     "output_type": "display_data"
    }
   ],
   "source": [
    "plt.hist(Z/TOTAL*100, bins=100, range=(0,100), alpha=0.5)\n",
    "plt.hist(P/TOTAL*100, bins=100, range=(0,100), alpha=0.5)\n",
    "plt.hist(T/TOTAL*100, bins=100, range=(0,100), alpha=0.5);"
   ]
  },
  {
   "cell_type": "code",
   "execution_count": null,
   "metadata": {
    "collapsed": true
   },
   "outputs": [],
   "source": []
  }
 ],
 "metadata": {
  "kernelspec": {
   "display_name": "Python 3",
   "language": "python",
   "name": "python3"
  },
  "language_info": {
   "codemirror_mode": {
    "name": "ipython",
    "version": 3
   },
   "file_extension": ".py",
   "mimetype": "text/x-python",
   "name": "python",
   "nbconvert_exporter": "python",
   "pygments_lexer": "ipython3",
   "version": "3.6.5"
  }
 },
 "nbformat": 4,
 "nbformat_minor": 2
}
